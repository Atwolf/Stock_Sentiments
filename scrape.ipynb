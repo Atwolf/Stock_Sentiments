{
 "cells": [
  {
   "cell_type": "code",
   "execution_count": 8,
   "metadata": {},
   "outputs": [
    {
     "ename": "TweepyException",
     "evalue": "This method does not perform pagination",
     "output_type": "error",
     "traceback": [
      "\u001b[1;31m---------------------------------------------------------------------------\u001b[0m",
      "\u001b[1;31mTweepyException\u001b[0m                           Traceback (most recent call last)",
      "Cell \u001b[1;32mIn [8], line 26\u001b[0m\n\u001b[0;32m     23\u001b[0m     \u001b[38;5;28;01mreturn\u001b[39;00m df\n\u001b[0;32m     25\u001b[0m stock_symbols \u001b[38;5;241m=\u001b[39m [\u001b[38;5;124m'\u001b[39m\u001b[38;5;124mNVDA\u001b[39m\u001b[38;5;124m'\u001b[39m, \u001b[38;5;124m'\u001b[39m\u001b[38;5;124mAMZN\u001b[39m\u001b[38;5;124m'\u001b[39m, \u001b[38;5;124m'\u001b[39m\u001b[38;5;124mEMR\u001b[39m\u001b[38;5;124m'\u001b[39m, \u001b[38;5;124m'\u001b[39m\u001b[38;5;124mMSFT\u001b[39m\u001b[38;5;124m'\u001b[39m, \u001b[38;5;124m'\u001b[39m\u001b[38;5;124mUNH\u001b[39m\u001b[38;5;124m'\u001b[39m, \u001b[38;5;124m'\u001b[39m\u001b[38;5;124mDAL\u001b[39m\u001b[38;5;124m'\u001b[39m, \u001b[38;5;124m'\u001b[39m\u001b[38;5;124mLW\u001b[39m\u001b[38;5;124m'\u001b[39m, \u001b[38;5;124m'\u001b[39m\u001b[38;5;124mARE\u001b[39m\u001b[38;5;124m'\u001b[39m, \u001b[38;5;124m'\u001b[39m\u001b[38;5;124mMDLZ\u001b[39m\u001b[38;5;124m'\u001b[39m, \u001b[38;5;124m'\u001b[39m\u001b[38;5;124mELV\u001b[39m\u001b[38;5;124m'\u001b[39m]\n\u001b[1;32m---> 26\u001b[0m tweets_df \u001b[38;5;241m=\u001b[39m \u001b[43mscrape_tweets\u001b[49m\u001b[43m(\u001b[49m\u001b[43mstock_symbols\u001b[49m\u001b[43m,\u001b[49m\u001b[43m \u001b[49m\u001b[43mmax_tweets\u001b[49m\u001b[38;5;241;43m=\u001b[39;49m\u001b[38;5;241;43m100\u001b[39;49m\u001b[43m)\u001b[49m\n\u001b[0;32m     27\u001b[0m \u001b[38;5;28mprint\u001b[39m(tweets_df\u001b[38;5;241m.\u001b[39mhead())\n",
      "Cell \u001b[1;32mIn [8], line 18\u001b[0m, in \u001b[0;36mscrape_tweets\u001b[1;34m(stock_symbols, max_tweets)\u001b[0m\n\u001b[0;32m     16\u001b[0m \u001b[38;5;28;01mfor\u001b[39;00m symbol \u001b[38;5;129;01min\u001b[39;00m stock_symbols:\n\u001b[0;32m     17\u001b[0m     query \u001b[38;5;241m=\u001b[39m \u001b[38;5;124mf\u001b[39m\u001b[38;5;124m\"\u001b[39m\u001b[38;5;124m#\u001b[39m\u001b[38;5;132;01m{\u001b[39;00msymbol\u001b[38;5;132;01m}\u001b[39;00m\u001b[38;5;124m OR \u001b[39m\u001b[38;5;132;01m{\u001b[39;00msymbol\u001b[38;5;132;01m}\u001b[39;00m\u001b[38;5;124m\"\u001b[39m\n\u001b[1;32m---> 18\u001b[0m     tweets \u001b[38;5;241m=\u001b[39m \u001b[43mtweepy\u001b[49m\u001b[38;5;241;43m.\u001b[39;49m\u001b[43mCursor\u001b[49m\u001b[43m(\u001b[49m\u001b[43mclient\u001b[49m\u001b[38;5;241;43m.\u001b[39;49m\u001b[43msearch_all_tweets\u001b[49m\u001b[43m,\u001b[49m\u001b[43m \u001b[49m\u001b[43mq\u001b[49m\u001b[38;5;241;43m=\u001b[39;49m\u001b[43mquery\u001b[49m\u001b[43m,\u001b[49m\u001b[43m \u001b[49m\u001b[43mlang\u001b[49m\u001b[38;5;241;43m=\u001b[39;49m\u001b[38;5;124;43m\"\u001b[39;49m\u001b[38;5;124;43men\u001b[39;49m\u001b[38;5;124;43m\"\u001b[39;49m\u001b[43m)\u001b[49m\u001b[38;5;241m.\u001b[39mitems(max_tweets)\n\u001b[0;32m     19\u001b[0m     \u001b[38;5;28;01mfor\u001b[39;00m tweet \u001b[38;5;129;01min\u001b[39;00m tweets:\n\u001b[0;32m     20\u001b[0m         tweets_data\u001b[38;5;241m.\u001b[39mappend([symbol, tweet\u001b[38;5;241m.\u001b[39mcreated_at, tweet\u001b[38;5;241m.\u001b[39mtext, tweet\u001b[38;5;241m.\u001b[39mfavorite_count, tweet\u001b[38;5;241m.\u001b[39mretweet_count])\n",
      "File \u001b[1;32mc:\\Python311\\Lib\\site-packages\\tweepy\\cursor.py:40\u001b[0m, in \u001b[0;36mCursor.__init__\u001b[1;34m(self, method, *args, **kwargs)\u001b[0m\n\u001b[0;32m     38\u001b[0m         \u001b[38;5;28;01mraise\u001b[39;00m TweepyException(\u001b[38;5;124m'\u001b[39m\u001b[38;5;124mInvalid pagination mode.\u001b[39m\u001b[38;5;124m'\u001b[39m)\n\u001b[0;32m     39\u001b[0m \u001b[38;5;28;01melse\u001b[39;00m:\n\u001b[1;32m---> 40\u001b[0m     \u001b[38;5;28;01mraise\u001b[39;00m TweepyException(\u001b[38;5;124m'\u001b[39m\u001b[38;5;124mThis method does not perform pagination\u001b[39m\u001b[38;5;124m'\u001b[39m)\n",
      "\u001b[1;31mTweepyException\u001b[0m: This method does not perform pagination"
     ]
    }
   ],
   "source": [
    "import tweepy\n",
    "import pandas as pd\n",
    "\n",
    "api_key = \"0esCMwl2tRCZHbQHaK9mkSGsk\"\n",
    "api_key_secret = \"TaPrkyToF49zd50GCzpXfNrxPQvUE1tyq1Xd0ERkwYfTr6cYwi\"\n",
    "access_token = \"746162773441208320-V43Mv8s1ARVPgMJ9UscAUlJYWQCY5lH\"\n",
    "access_token_secret = \"xnrwFtwNPciT0vHPG9KS7SpujXWh2brvrkBfaX7Qxi3qe\"\n",
    "bearer_token = \"AAAAAAAAAAAAAAAAAAAAAAHiugEAAAAAGGo7klF3LY0L%2BcCqpkJ%2BOkt7kkM%3DRN08i4EizLBl86DPcejP4TOhp5MssIvZduEWDtKjO6SjHN6RUI\"\n",
    "\n",
    "# Authenticate to Twitter\n",
    "auth = tweepy.OAuth1UserHandler(api_key, api_key_secret, access_token, access_token_secret)\n",
    "# api = tweepy.API(auth, wait_on_rate_limit=True)\n",
    "client = tweepy.Client(bearer_token=bearer_token, consumer_key=api_key, consumer_secret=api_key_secret, access_token=access_token, access_token_secret=access_token_secret)\n",
    "\n",
    "def scrape_tweets(stock_symbols, max_tweets=5):\n",
    "    tweets_data = []\n",
    "    for symbol in stock_symbols:\n",
    "        query = f\"#{symbol} OR {symbol}\"\n",
    "        tweets = client.search_recent_tweets(query=query, tweet_fields=['created_at', 'public_metrics'], max_results=max_tweets)\n",
    "        for tweet in tweets.data:\n",
    "            tweets_data.append([\n",
    "                symbol,\n",
    "                tweet.created_at,\n",
    "                tweet.text,\n",
    "                tweet.public_metrics['like_count'],\n",
    "                tweet.public_metrics['retweet_count']\n",
    "            ])\n",
    "    \n",
    "    df = pd.DataFrame(tweets_data, columns=['Stock Symbol', 'Timestamp', 'Tweet', 'Likes', 'Retweets'])\n",
    "    return df\n",
    "\n",
    "stock_symbols = ['NVDA', 'AMZN', 'EMR', 'MSFT', 'UNH', 'DAL', 'LW', 'ARE', 'MDLZ', 'ELV']\n",
    "tweets_df = scrape_tweets(stock_symbols, max_tweets=100)\n",
    "print(tweets_df.head())"
   ]
  },
  {
   "cell_type": "code",
   "execution_count": null,
   "metadata": {},
   "outputs": [],
   "source": [
    "import requests\n",
    "\n",
    "def scrape_news(stock_symbols):\n",
    "    news_data = []\n",
    "    for symbol in stock_symbols:\n",
    "        query = f\"{symbol} news\"\n",
    "        url = f\"https://www.google.com/search?q={query}&tbm=nws\"\n",
    "        headers = {'User-Agent': 'Mozilla/5.0'}\n",
    "        response = requests.get(url, headers=headers)\n",
    "        soup = BeautifulSoup(response.text, 'html.parser')\n",
    "        \n",
    "        for item in soup.find_all('div', attrs={'class': 'BVG0Nb'}):\n",
    "            headline = item.find('div', attrs={'class': 'BNeawe vvjwJb AP7Wnd'}).text\n",
    "            link = item.find('a')['href']\n",
    "            news_data.append([symbol, headline, link])\n",
    "    \n",
    "    df = pd.DataFrame(news_data, columns=['Stock Symbol', 'Headline', 'Link'])\n",
    "    return df\n",
    "\n",
    "news_df = scrape_news(stock_symbols)\n",
    "print(news_df.head())"
   ]
  },
  {
   "cell_type": "code",
   "execution_count": null,
   "metadata": {},
   "outputs": [],
   "source": [
    "combined_df = tweets_df.merge(news_df, on='Stock Symbol', how='outer')\n",
    "print(combined_df.head())"
   ]
  }
 ],
 "metadata": {
  "kernelspec": {
   "display_name": "Python 3",
   "language": "python",
   "name": "python3"
  },
  "language_info": {
   "codemirror_mode": {
    "name": "ipython",
    "version": 3
   },
   "file_extension": ".py",
   "mimetype": "text/x-python",
   "name": "python",
   "nbconvert_exporter": "python",
   "pygments_lexer": "ipython3",
   "version": "3.11.0"
  }
 },
 "nbformat": 4,
 "nbformat_minor": 2
}
